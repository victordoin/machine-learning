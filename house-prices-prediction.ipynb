{
 "cells": [
  {
   "cell_type": "markdown",
   "id": "7cde57aa",
   "metadata": {
    "papermill": {
     "duration": 0.004719,
     "end_time": "2022-08-08T20:12:51.878428",
     "exception": false,
     "start_time": "2022-08-08T20:12:51.873709",
     "status": "completed"
    },
    "tags": []
   },
   "source": [
    "# **Importing libs**"
   ]
  },
  {
   "cell_type": "code",
   "execution_count": 1,
   "id": "3bb3d4c3",
   "metadata": {
    "_cell_guid": "b1076dfc-b9ad-4769-8c92-a6c4dae69d19",
    "_uuid": "8f2839f25d086af736a60e9eeb907d3b93b6e0e5",
    "execution": {
     "iopub.execute_input": "2022-08-08T20:12:51.888850Z",
     "iopub.status.busy": "2022-08-08T20:12:51.888372Z",
     "iopub.status.idle": "2022-08-08T20:12:54.554655Z",
     "shell.execute_reply": "2022-08-08T20:12:54.553532Z"
    },
    "papermill": {
     "duration": 2.675188,
     "end_time": "2022-08-08T20:12:54.557524",
     "exception": false,
     "start_time": "2022-08-08T20:12:51.882336",
     "status": "completed"
    },
    "tags": []
   },
   "outputs": [
    {
     "data": {
      "text/html": [
       "<style type='text/css'>\n",
       ".datatable table.frame { margin-bottom: 0; }\n",
       ".datatable table.frame thead { border-bottom: none; }\n",
       ".datatable table.frame tr.coltypes td {  color: #FFFFFF;  line-height: 6px;  padding: 0 0.5em;}\n",
       ".datatable .bool    { background: #DDDD99; }\n",
       ".datatable .object  { background: #565656; }\n",
       ".datatable .int     { background: #5D9E5D; }\n",
       ".datatable .float   { background: #4040CC; }\n",
       ".datatable .str     { background: #CC4040; }\n",
       ".datatable .time    { background: #40CC40; }\n",
       ".datatable .row_index {  background: var(--jp-border-color3);  border-right: 1px solid var(--jp-border-color0);  color: var(--jp-ui-font-color3);  font-size: 9px;}\n",
       ".datatable .frame tbody td { text-align: left; }\n",
       ".datatable .frame tr.coltypes .row_index {  background: var(--jp-border-color0);}\n",
       ".datatable th:nth-child(2) { padding-left: 12px; }\n",
       ".datatable .hellipsis {  color: var(--jp-cell-editor-border-color);}\n",
       ".datatable .vellipsis {  background: var(--jp-layout-color0);  color: var(--jp-cell-editor-border-color);}\n",
       ".datatable .na {  color: var(--jp-cell-editor-border-color);  font-size: 80%;}\n",
       ".datatable .sp {  opacity: 0.25;}\n",
       ".datatable .footer { font-size: 9px; }\n",
       ".datatable .frame_dimensions {  background: var(--jp-border-color3);  border-top: 1px solid var(--jp-border-color0);  color: var(--jp-ui-font-color3);  display: inline-block;  opacity: 0.6;  padding: 1px 10px 1px 5px;}\n",
       "</style>\n"
      ],
      "text/plain": [
       "<IPython.core.display.HTML object>"
      ]
     },
     "metadata": {},
     "output_type": "display_data"
    }
   ],
   "source": [
    "#============ Standart\n",
    "import os\n",
    "import warnings\n",
    "import numpy as np \n",
    "import pandas as pd\n",
    "from math import sqrt\n",
    "from scipy.special import boxcox1p\n",
    "from scipy.stats import norm, skew\n",
    "\n",
    "\n",
    "#============= Viz tools\n",
    "import seaborn as sns\n",
    "import matplotlib.pyplot as plt\n",
    "\n",
    "\n",
    "#============= Models and tests\n",
    "from sklearn.svm import SVC\n",
    "from xgboost import XGBRegressor\n",
    "from lightgbm import LGBMRegressor\n",
    "from sklearn.impute import SimpleImputer\n",
    "from sklearn.naive_bayes import GaussianNB\n",
    "from sklearn.tree import DecisionTreeRegressor\n",
    "from sklearn.linear_model import LogisticRegression\n",
    "from sklearn.model_selection import KFold, GridSearchCV, cross_val_score\n",
    "from sklearn.ensemble import RandomForestRegressor, GradientBoostingRegressor\n",
    "from sklearn.metrics import mean_absolute_error, mean_squared_error, accuracy_score, log_loss\n",
    "from sklearn.discriminant_analysis import LinearDiscriminantAnalysis, QuadraticDiscriminantAnalysis\n",
    "\n",
    "\n",
    "warnings.filterwarnings('ignore')"
   ]
  },
  {
   "cell_type": "markdown",
   "id": "2e41dc10",
   "metadata": {
    "papermill": {
     "duration": 0.003727,
     "end_time": "2022-08-08T20:12:54.565317",
     "exception": false,
     "start_time": "2022-08-08T20:12:54.561590",
     "status": "completed"
    },
    "tags": []
   },
   "source": [
    "# **Importing and shaping the data**"
   ]
  },
  {
   "cell_type": "code",
   "execution_count": 2,
   "id": "a4454bbe",
   "metadata": {
    "execution": {
     "iopub.execute_input": "2022-08-08T20:12:54.574965Z",
     "iopub.status.busy": "2022-08-08T20:12:54.574571Z",
     "iopub.status.idle": "2022-08-08T20:12:54.655634Z",
     "shell.execute_reply": "2022-08-08T20:12:54.654292Z"
    },
    "papermill": {
     "duration": 0.089315,
     "end_time": "2022-08-08T20:12:54.658603",
     "exception": false,
     "start_time": "2022-08-08T20:12:54.569288",
     "status": "completed"
    },
    "tags": []
   },
   "outputs": [],
   "source": [
    "train = pd.read_csv('/kaggle/input/house-prices-advanced-regression-techniques/train.csv')\n",
    "test = pd.read_csv('/kaggle/input/house-prices-advanced-regression-techniques/test.csv')\n",
    "y_val = pd.read_csv('/kaggle/input/house-prices-advanced-regression-techniques/sample_submission.csv')"
   ]
  },
  {
   "cell_type": "code",
   "execution_count": 3,
   "id": "039b8bcd",
   "metadata": {
    "execution": {
     "iopub.execute_input": "2022-08-08T20:12:54.668795Z",
     "iopub.status.busy": "2022-08-08T20:12:54.667994Z",
     "iopub.status.idle": "2022-08-08T20:12:54.713386Z",
     "shell.execute_reply": "2022-08-08T20:12:54.712123Z"
    },
    "papermill": {
     "duration": 0.053184,
     "end_time": "2022-08-08T20:12:54.715913",
     "exception": false,
     "start_time": "2022-08-08T20:12:54.662729",
     "status": "completed"
    },
    "tags": []
   },
   "outputs": [
    {
     "data": {
      "text/plain": [
       "(2919, 79)"
      ]
     },
     "execution_count": 3,
     "metadata": {},
     "output_type": "execute_result"
    }
   ],
   "source": [
    "ID_test = test['Id'] # Saving ID to test accuracy later\n",
    "y_train = train['SalePrice'] # Saving target for training later\n",
    "\n",
    "train.drop('Id', inplace=True, axis=1)\n",
    "test.drop('Id', inplace=True, axis=1)\n",
    "\n",
    "\n",
    "full_data = pd.concat([train, test])\n",
    "full_data.drop('SalePrice', inplace=True, axis=1)\n",
    "\n",
    "full_data.shape"
   ]
  },
  {
   "cell_type": "markdown",
   "id": "874bb390",
   "metadata": {
    "papermill": {
     "duration": 0.003818,
     "end_time": "2022-08-08T20:12:54.723835",
     "exception": false,
     "start_time": "2022-08-08T20:12:54.720017",
     "status": "completed"
    },
    "tags": []
   },
   "source": [
    "# **Defining which features i'll use**\n",
    "\n",
    "* **MSZoning**: Identifies the general zoning classification of the sale.\n",
    "* **LotArea**: Lot size in square feet\n",
    "* **Street**: Type of road access to property\n",
    "* **LandContour**: Flatness of the property\n",
    "* **LotConfig**: Lot configuration\n",
    "* **OverallQual**: Rates the overall material and finish of the house\n",
    "* **OverallCond**: Rates the overall condition of the house\n",
    "* **YearBuilt**: Original construction date\n",
    "* **YearRemodAdd**: Remodel date (same as construction date if no remodeling or additions)\n",
    "* **FullBath**: Full bathrooms above grade\n",
    "* **1stFlrSF**: First Floor square feet\n",
    "* **2ndFlrSF**: Second floor square feet\n",
    "* **GrLivArea**: Above grade (ground) living area square feet\n",
    "* **GarageArea**: Size of garage in square feet\n",
    "* **TotRmsAbvGrd**: Total rooms above grade (does not include bathrooms)"
   ]
  },
  {
   "cell_type": "code",
   "execution_count": 4,
   "id": "e45ddef8",
   "metadata": {
    "execution": {
     "iopub.execute_input": "2022-08-08T20:12:54.734024Z",
     "iopub.status.busy": "2022-08-08T20:12:54.733231Z",
     "iopub.status.idle": "2022-08-08T20:12:55.644614Z",
     "shell.execute_reply": "2022-08-08T20:12:55.643379Z"
    },
    "papermill": {
     "duration": 0.919556,
     "end_time": "2022-08-08T20:12:55.647475",
     "exception": false,
     "start_time": "2022-08-08T20:12:54.727919",
     "status": "completed"
    },
    "tags": []
   },
   "outputs": [
    {
     "data": {
      "text/plain": [
       "<AxesSubplot:>"
      ]
     },
     "execution_count": 4,
     "metadata": {},
     "output_type": "execute_result"
    },
    {
     "data": {
      "image/png": "[encoded data removed]",
      "text/plain": [
       "<Figure size 864x864 with 2 Axes>"
      ]
     },
     "metadata": {
      "needs_background": "light"
     },
     "output_type": "display_data"
    }
   ],
   "source": [
    "plt.figure(figsize= (12 , 12))\n",
    "sns.heatmap(train.corr(),cmap=\"Blues\")"
   ]
  },
  {
   "cell_type": "code",
   "execution_count": 5,
   "id": "29fa582b",
   "metadata": {
    "execution": {
     "iopub.execute_input": "2022-08-08T20:12:55.660744Z",
     "iopub.status.busy": "2022-08-08T20:12:55.660094Z",
     "iopub.status.idle": "2022-08-08T20:12:55.676283Z",
     "shell.execute_reply": "2022-08-08T20:12:55.674971Z"
    },
    "papermill": {
     "duration": 0.026415,
     "end_time": "2022-08-08T20:12:55.679279",
     "exception": false,
     "start_time": "2022-08-08T20:12:55.652864",
     "status": "completed"
    },
    "tags": []
   },
   "outputs": [
    {
     "data": {
      "text/plain": [
       "MSZoning        4\n",
       "LotArea         0\n",
       "Street          0\n",
       "LandContour     0\n",
       "LotConfig       0\n",
       "OverallQual     0\n",
       "OverallCond     0\n",
       "YearBuilt       0\n",
       "YearRemodAdd    0\n",
       "FullBath        0\n",
       "1stFlrSF        0\n",
       "2ndFlrSF        0\n",
       "GrLivArea       0\n",
       "GarageArea      1\n",
       "TotRmsAbvGrd    0\n",
       "dtype: int64"
      ]
     },
     "execution_count": 5,
     "metadata": {},
     "output_type": "execute_result"
    }
   ],
   "source": [
    "# Defining features\n",
    "features = ['MSZoning',\n",
    "            'LotArea',\n",
    "            'Street',\n",
    "            'LandContour',\n",
    "            'LotConfig',\n",
    "            'OverallQual',\n",
    "            'OverallCond',\n",
    "            'YearBuilt',\n",
    "            'YearRemodAdd',\n",
    "            'FullBath',\n",
    "            '1stFlrSF',\n",
    "            '2ndFlrSF',\n",
    "            'GrLivArea',\n",
    "            'GarageArea',\n",
    "            'TotRmsAbvGrd']\n",
    "\n",
    "full_data = full_data[features]\n",
    "\n",
    "\n",
    "# Separating features\n",
    "num_types = ['int16', 'int32', 'int64', 'float16', 'float32', 'float64']\n",
    "num_features = []\n",
    "cat_features = []\n",
    "\n",
    "for col in full_data.columns:\n",
    "    if full_data[col].dtype in num_types:\n",
    "        num_features.append(col)\n",
    "    elif full_data[col].dtype == 'object':\n",
    "        cat_features.append(col)\n",
    "        \n",
    "\n",
    "full_data.isnull().sum()"
   ]
  },
  {
   "cell_type": "code",
   "execution_count": 6,
   "id": "cf90f871",
   "metadata": {
    "execution": {
     "iopub.execute_input": "2022-08-08T20:12:55.692413Z",
     "iopub.status.busy": "2022-08-08T20:12:55.691955Z",
     "iopub.status.idle": "2022-08-08T20:12:55.730922Z",
     "shell.execute_reply": "2022-08-08T20:12:55.729317Z"
    },
    "papermill": {
     "duration": 0.049146,
     "end_time": "2022-08-08T20:12:55.734055",
     "exception": false,
     "start_time": "2022-08-08T20:12:55.684909",
     "status": "completed"
    },
    "tags": []
   },
   "outputs": [
    {
     "name": "stdout",
     "output_type": "stream",
     "text": [
      "                   Skew\n",
      "LotArea       12.822431\n",
      "1stFlrSF       1.469604\n",
      "GrLivArea      1.269358\n",
      "2ndFlrSF       0.861675\n",
      "TotRmsAbvGrd   0.758367\n"
     ]
    }
   ],
   "source": [
    "# Filling NA values\n",
    "full_data['MSZoning'] = full_data['MSZoning'].fillna(full_data['MSZoning'].mode()[0])\n",
    "full_data['GarageArea'] = full_data['GarageArea'].fillna(full_data['GarageArea'].median())\n",
    "\n",
    "\n",
    "# Looking for skewness on num feats\n",
    "\n",
    "skew = full_data[num_features].apply(lambda x: skew(x.dropna())).sort_values(ascending=False)\n",
    "df_skew = pd.DataFrame({'Skew': skew})\n",
    "\n",
    "print(df_skew.head())\n",
    "\n",
    "lambda_skew = 0.15\n",
    "for feat in skew.index:\n",
    "    full_data[feat] = boxcox1p(full_data[feat], lambda_skew)\n"
   ]
  },
  {
   "cell_type": "code",
   "execution_count": 7,
   "id": "d09de1e3",
   "metadata": {
    "execution": {
     "iopub.execute_input": "2022-08-08T20:12:55.747119Z",
     "iopub.status.busy": "2022-08-08T20:12:55.746695Z",
     "iopub.status.idle": "2022-08-08T20:12:55.763476Z",
     "shell.execute_reply": "2022-08-08T20:12:55.762361Z"
    },
    "papermill": {
     "duration": 0.02684,
     "end_time": "2022-08-08T20:12:55.766506",
     "exception": false,
     "start_time": "2022-08-08T20:12:55.739666",
     "status": "completed"
    },
    "tags": []
   },
   "outputs": [],
   "source": [
    "full_data = pd.get_dummies(full_data).reset_index(drop=True)\n",
    "\n",
    "\n",
    "train = full_data[:len(train)]\n",
    "test = full_data[len(train):]"
   ]
  },
  {
   "cell_type": "code",
   "execution_count": 8,
   "id": "f0e13b28",
   "metadata": {
    "execution": {
     "iopub.execute_input": "2022-08-08T20:12:55.779719Z",
     "iopub.status.busy": "2022-08-08T20:12:55.779314Z",
     "iopub.status.idle": "2022-08-08T20:15:12.833866Z",
     "shell.execute_reply": "2022-08-08T20:15:12.832252Z"
    },
    "papermill": {
     "duration": 137.064451,
     "end_time": "2022-08-08T20:15:12.836588",
     "exception": false,
     "start_time": "2022-08-08T20:12:55.772137",
     "status": "completed"
    },
    "tags": []
   },
   "outputs": [
    {
     "name": "stdout",
     "output_type": "stream",
     "text": [
      "Fitting 5 folds for each of 175 candidates, totalling 875 fits\n",
      "Fitting 5 folds for each of 175 candidates, totalling 875 fits\n",
      "Fitting 5 folds for each of 175 candidates, totalling 875 fits\n",
      "Fitting 5 folds for each of 175 candidates, totalling 875 fits\n",
      "Fitting 5 folds for each of 175 candidates, totalling 875 fits\n",
      "Fitting 5 folds for each of 175 candidates, totalling 875 fits\n",
      "Fitting 5 folds for each of 175 candidates, totalling 875 fits\n",
      "Fitting 5 folds for each of 175 candidates, totalling 875 fits\n",
      "Fitting 5 folds for each of 175 candidates, totalling 875 fits\n",
      "Fitting 5 folds for each of 175 candidates, totalling 875 fits\n",
      "Fitting 5 folds for each of 175 candidates, totalling 875 fits\n",
      "Fitting 5 folds for each of 175 candidates, totalling 875 fits\n",
      "[LightGBM] [Warning] Found whitespace in feature_names, replace with underlines\n",
      "[LightGBM] [Warning] Auto-choosing row-wise multi-threading, the overhead of testing was 0.007221 seconds.\n",
      "You can set `force_row_wise=true` to remove the overhead.\n",
      "And if memory is not enough, you can set `force_col_wise=true`.\n",
      "[LightGBM] [Info] Total Bins 1432\n",
      "[LightGBM] [Info] Number of data points in the train set: 1338, number of used features: 22\n",
      "[LightGBM] [Info] Start training from score 180391.539611\n",
      "[LightGBM] [Warning] Found whitespace in feature_names, replace with underlines\n",
      "[LightGBM] [Warning] Auto-choosing col-wise multi-threading, the overhead of testing was 0.000457 seconds.\n",
      "You can set `force_col_wise=true` to remove the overhead.\n",
      "[LightGBM] [Info] Total Bins 1429\n",
      "[LightGBM] [Info] Number of data points in the train set: 1338, number of used features: 22\n",
      "[LightGBM] [Info] Start training from score 180804.641256\n",
      "[LightGBM] [Warning] Found whitespace in feature_names, replace with underlines\n",
      "[LightGBM] [Warning] Auto-choosing col-wise multi-threading, the overhead of testing was 0.000473 seconds.\n",
      "You can set `force_col_wise=true` to remove the overhead.\n",
      "[LightGBM] [Info] Total Bins 1426\n",
      "[LightGBM] [Info] Number of data points in the train set: 1338, number of used features: 22\n",
      "[LightGBM] [Info] Start training from score 180693.155456\n",
      "[LightGBM] [Warning] Found whitespace in feature_names, replace with underlines\n",
      "[LightGBM] [Warning] Auto-choosing col-wise multi-threading, the overhead of testing was 0.000466 seconds.\n",
      "You can set `force_col_wise=true` to remove the overhead.\n",
      "[LightGBM] [Info] Total Bins 1429\n",
      "[LightGBM] [Info] Number of data points in the train set: 1338, number of used features: 22\n",
      "[LightGBM] [Info] Start training from score 180207.116592\n",
      "[LightGBM] [Warning] Found whitespace in feature_names, replace with underlines\n",
      "[LightGBM] [Warning] Auto-choosing col-wise multi-threading, the overhead of testing was 0.000481 seconds.\n",
      "You can set `force_col_wise=true` to remove the overhead.\n",
      "[LightGBM] [Info] Total Bins 1431\n",
      "[LightGBM] [Info] Number of data points in the train set: 1338, number of used features: 22\n",
      "[LightGBM] [Info] Start training from score 181052.004484\n",
      "[LightGBM] [Warning] Found whitespace in feature_names, replace with underlines\n",
      "[LightGBM] [Warning] Auto-choosing col-wise multi-threading, the overhead of testing was 0.000500 seconds.\n",
      "You can set `force_col_wise=true` to remove the overhead.\n",
      "[LightGBM] [Info] Total Bins 1430\n",
      "[LightGBM] [Info] Number of data points in the train set: 1338, number of used features: 22\n",
      "[LightGBM] [Info] Start training from score 181093.079970\n",
      "[LightGBM] [Warning] Found whitespace in feature_names, replace with underlines\n",
      "[LightGBM] [Warning] Auto-choosing col-wise multi-threading, the overhead of testing was 0.000499 seconds.\n",
      "You can set `force_col_wise=true` to remove the overhead.\n",
      "[LightGBM] [Info] Total Bins 1426\n",
      "[LightGBM] [Info] Number of data points in the train set: 1338, number of used features: 22\n",
      "[LightGBM] [Info] Start training from score 181592.108371\n",
      "[LightGBM] [Warning] Found whitespace in feature_names, replace with underlines\n",
      "[LightGBM] [Warning] Auto-choosing col-wise multi-threading, the overhead of testing was 0.000500 seconds.\n",
      "You can set `force_col_wise=true` to remove the overhead.\n",
      "[LightGBM] [Info] Total Bins 1429\n",
      "[LightGBM] [Info] Number of data points in the train set: 1338, number of used features: 22\n",
      "[LightGBM] [Info] Start training from score 181627.142003\n",
      "[LightGBM] [Warning] Found whitespace in feature_names, replace with underlines\n",
      "[LightGBM] [Warning] Auto-choosing col-wise multi-threading, the overhead of testing was 0.000515 seconds.\n",
      "You can set `force_col_wise=true` to remove the overhead.\n",
      "[LightGBM] [Info] Total Bins 1432\n",
      "[LightGBM] [Info] Number of data points in the train set: 1339, number of used features: 22\n",
      "[LightGBM] [Info] Start training from score 180618.367438\n",
      "[LightGBM] [Warning] Found whitespace in feature_names, replace with underlines\n",
      "[LightGBM] [Warning] Auto-choosing col-wise multi-threading, the overhead of testing was 0.000495 seconds.\n",
      "You can set `force_col_wise=true` to remove the overhead.\n",
      "[LightGBM] [Info] Total Bins 1430\n",
      "[LightGBM] [Info] Number of data points in the train set: 1339, number of used features: 22\n",
      "[LightGBM] [Info] Start training from score 181503.061240\n",
      "[LightGBM] [Warning] Found whitespace in feature_names, replace with underlines\n",
      "[LightGBM] [Warning] Auto-choosing col-wise multi-threading, the overhead of testing was 0.000477 seconds.\n",
      "You can set `force_col_wise=true` to remove the overhead.\n",
      "[LightGBM] [Info] Total Bins 1432\n",
      "[LightGBM] [Info] Number of data points in the train set: 1339, number of used features: 22\n",
      "[LightGBM] [Info] Start training from score 180902.023898\n",
      "[LightGBM] [Warning] Found whitespace in feature_names, replace with underlines\n",
      "[LightGBM] [Warning] Auto-choosing col-wise multi-threading, the overhead of testing was 0.000518 seconds.\n",
      "You can set `force_col_wise=true` to remove the overhead.\n",
      "[LightGBM] [Info] Total Bins 1430\n",
      "[LightGBM] [Info] Number of data points in the train set: 1339, number of used features: 22\n",
      "[LightGBM] [Info] Start training from score 180570.178491\n",
      "70116.33007352334\n"
     ]
    },
    {
     "data": {
      "image/png": "[encoded data removed]",
      "text/plain": [
       "<Figure size 432x288 with 1 Axes>"
      ]
     },
     "metadata": {
      "needs_background": "light"
     },
     "output_type": "display_data"
    }
   ],
   "source": [
    "decision_tree_model = DecisionTreeRegressor(random_state=13)\n",
    "classifiers = [\n",
    "    DecisionTreeRegressor(random_state=13),\n",
    "    GridSearchCV(decision_tree_model , {\n",
    "    \"max_depth\" : [6,7,8,9,10,11,12],\n",
    "    \"min_samples_split\": [6,7,8,9,10],\n",
    "    \"min_samples_leaf\" : [5,7,8,9,10]\n",
    "    },verbose = 1),\n",
    "    RandomForestRegressor(random_state=13),\n",
    "    GradientBoostingRegressor(loss='huber',random_state=13),\n",
    "    XGBRegressor(objective='reg:squarederror',random_state=13),\n",
    "    LGBMRegressor(objective='regression', verbose=1,random_state=13)\n",
    "]\n",
    "\n",
    "kf = KFold(n_splits=12, random_state=13, shuffle=True)\n",
    "\n",
    "def cross_val_rmse(model, X=train , Y=y_train):\n",
    "    rmse = np.sqrt(-cross_val_score(model,X, Y, scoring=\"neg_mean_squared_error\", cv=kf))\n",
    "    return (rmse)\n",
    "\n",
    "\n",
    "acc_dict = {}\n",
    "\n",
    "graph_cols = [\"Model\", \"RMSE\"]\n",
    "graph = pd.DataFrame(columns=graph_cols)\n",
    "\n",
    "X_train, X_test = full_data[:len(train)], full_data[len(train):]\n",
    "y_train, y_test = y_train, y_val.iloc[:,1]\n",
    "\n",
    "\n",
    "\n",
    "for clf in classifiers:\n",
    "    name = clf.__class__.__name__\n",
    "    acc = cross_val_rmse(clf).mean()\n",
    "    if name in acc_dict:\n",
    "        acc_dict[name] += acc\n",
    "    else:\n",
    "        acc_dict[name] = acc\n",
    "\n",
    "for clf in acc_dict:\n",
    "    acc_dict[clf] = acc_dict[clf] / 10.0\n",
    "    new_data = pd.DataFrame([[clf, acc_dict[clf]]], columns=graph_cols)\n",
    "    graph = graph.append(new_data)\n",
    "\n",
    "plt.xlabel('RMSE')\n",
    "plt.title('Model results')\n",
    "\n",
    "sns.set_color_codes(\"muted\")\n",
    "sns.barplot(x='RMSE', y='Model', data=graph, color=\"r\")\n",
    "\n",
    "\n",
    "model = GradientBoostingRegressor(loss='huber',random_state=15)\n",
    "model.fit(train, y_train)\n",
    "\n",
    "predict = model.predict(test)\n",
    "cc = sqrt(mean_squared_error(predict, y_val.iloc[:,1]))\n",
    "\n",
    "print(cc)"
   ]
  },
  {
   "cell_type": "code",
   "execution_count": 9,
   "id": "e10b3926",
   "metadata": {
    "execution": {
     "iopub.execute_input": "2022-08-08T20:15:12.853254Z",
     "iopub.status.busy": "2022-08-08T20:15:12.852464Z",
     "iopub.status.idle": "2022-08-08T20:15:12.866288Z",
     "shell.execute_reply": "2022-08-08T20:15:12.864791Z"
    },
    "papermill": {
     "duration": 0.025691,
     "end_time": "2022-08-08T20:15:12.869510",
     "exception": false,
     "start_time": "2022-08-08T20:15:12.843819",
     "status": "completed"
    },
    "tags": []
   },
   "outputs": [],
   "source": [
    "output = pd.DataFrame({'Id': ID_test,\n",
    "                       'SalePrice': predict})\n",
    "output.to_csv('submission.csv', index=False)"
   ]
  }
 ],
 "metadata": {
  "kernelspec": {
   "display_name": "Python 3",
   "language": "python",
   "name": "python3"
  },
  "language_info": {
   "codemirror_mode": {
    "name": "ipython",
    "version": 3
   },
   "file_extension": ".py",
   "mimetype": "text/x-python",
   "name": "python",
   "nbconvert_exporter": "python",
   "pygments_lexer": "ipython3",
   "version": "3.7.12"
  },
  "papermill": {
   "default_parameters": {},
   "duration": 154.740073,
   "end_time": "2022-08-08T20:15:16.426416",
   "environment_variables": {},
   "exception": null,
   "input_path": "__notebook__.ipynb",
   "output_path": "__notebook__.ipynb",
   "parameters": {},
   "start_time": "2022-08-08T20:12:41.686343",
   "version": "2.3.4"
  }
 },
 "nbformat": 4,
 "nbformat_minor": 5
}
